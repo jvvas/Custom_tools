{
 "cells": [
  {
   "cell_type": "code",
   "execution_count": 1,
   "id": "5e78b6c8",
   "metadata": {},
   "outputs": [],
   "source": [
    "import numpy as np\n",
    "import matplotlib.pyplot as plt\n",
    "from numpy import unravel_index"
   ]
  },
  {
   "cell_type": "code",
   "execution_count": 2,
   "id": "a0d6fd45",
   "metadata": {},
   "outputs": [
    {
     "name": "stdout",
     "output_type": "stream",
     "text": [
      "Populating the interactive namespace from numpy and matplotlib\n"
     ]
    }
   ],
   "source": [
    "%pylab qt"
   ]
  },
  {
   "cell_type": "code",
   "execution_count": 3,
   "id": "e7df6e66",
   "metadata": {},
   "outputs": [],
   "source": [
    "import hyperspy.api as hs"
   ]
  },
  {
   "cell_type": "code",
   "execution_count": 4,
   "id": "1ff2aab8",
   "metadata": {},
   "outputs": [],
   "source": [
    "path = \"/Users/josephvas/Dropbox/ER-C/Projects/YIG experiments/Holo/YIG_20-03-2023/Current_series_2_duty_cycle_30pc/\"\n",
    "file_out = \"3D stack_2023-3-21_18-54-16_0mA.dm4\"\n",
    "#file_in = \"3D stack_2022-10-28_15-10-38_1.5mA_C_mean_P_2.dm3\"\n",
    "\n",
    "TEM1 = hs.load(path+file_out) #underfocus\n",
    "#TEM2 = hs.load(path+file_in) #in-focus"
   ]
  },
  {
   "cell_type": "code",
   "execution_count": 5,
   "id": "94562325",
   "metadata": {},
   "outputs": [],
   "source": [
    "fft_TEM1 = np.fft.fft2(TEM1.data[1,:,:])\n",
    "fft_TEM1_shift = np.fft.fftshift(fft_TEM1)"
   ]
  },
  {
   "cell_type": "code",
   "execution_count": 6,
   "id": "4f1b865d",
   "metadata": {},
   "outputs": [
    {
     "data": {
      "text/plain": [
       "<matplotlib.image.AxesImage at 0x7f99b598fdf0>"
      ]
     },
     "execution_count": 6,
     "metadata": {},
     "output_type": "execute_result"
    }
   ],
   "source": [
    "vmin_mul = 0.\n",
    "vmax_mul = 2.5\n",
    "\n",
    "fig, ax = plt.subplots(nrows = 1, ncols= 1)\n",
    "image1 =abs(fft_TEM1_shift)\n",
    "\n",
    "ax.set_title('holograph')\n",
    "ax.imshow(image1, cmap='gray', \\\n",
    "                 vmin=vmin_mul*np.mean(image1), vmax=vmax_mul*np.mean(image1))"
   ]
  },
  {
   "cell_type": "code",
   "execution_count": null,
   "id": "47dd7d2e",
   "metadata": {},
   "outputs": [],
   "source": []
  },
  {
   "cell_type": "code",
   "execution_count": 10,
   "id": "78f54aca",
   "metadata": {},
   "outputs": [],
   "source": [
    "center_x = int(np.floor(image1.shape[0]/2))\n",
    "center_y = int(np.floor(image1.shape[1]/2))\n",
    "dim = max(center_x,center_y)\n",
    "mask = np.zeros([image1.shape[0],image1.shape[1]])\n",
    "mask[0:center_x,center_y:image1.shape[1]]= image1[0:center_x,center_y:image1.shape[1]]\n",
    "[peak_x, peak_y] = unravel_index(mask.argmax(), mask.shape)\n",
    "#[peak_x, peak_y] = [center_x, center_y]"
   ]
  },
  {
   "cell_type": "code",
   "execution_count": 11,
   "id": "31dd4126",
   "metadata": {},
   "outputs": [
    {
     "data": {
      "text/plain": [
       "<matplotlib.image.AxesImage at 0x7f83d0044880>"
      ]
     },
     "execution_count": 11,
     "metadata": {},
     "output_type": "execute_result"
    }
   ],
   "source": [
    "# Define the dimensions of the 2D Hanning window\n",
    "N_x = 1000\n",
    "N_y = 1000\n",
    "\n",
    "# Generate the 2D Hanning window\n",
    "x = np.arange(N_x)\n",
    "y = np.arange(N_y)\n",
    "xx, yy = np.meshgrid(x, y)\n",
    "w = 0.5 * (1 - np.cos(2*np.pi*xx / (N_x-1))) * (1 - np.cos(2*np.pi*yy / (N_y-1)))\n",
    "\n",
    "mask = np.zeros([image1.shape[0],image1.shape[1]])\n",
    "\n",
    "for i in range(0,N_x):\n",
    "    for j in range(0,N_y):\n",
    "        mask[peak_x-int(N_x/2)+i,peak_y-int(N_y/2)+j] = w[i,j]\n",
    "        #mask[-int(N_x/2)+i,-int(N_y/2)+j] = w[i,j]\n",
    "        \n",
    "image2 = fft_TEM1_shift*mask\n",
    "\n",
    "vmin_mul = 0.\n",
    "vmax_mul = 2.5\n",
    "\n",
    "fig, ax = plt.subplots(nrows = 1, ncols= 1)\n",
    "ax.set_title('holograph')\n",
    "ax.imshow(abs(image2), cmap='gray', \\\n",
    "                 vmin=vmin_mul*np.mean(image1), vmax=vmax_mul*np.mean(image1))"
   ]
  },
  {
   "cell_type": "code",
   "execution_count": 12,
   "id": "dcbdacfd",
   "metadata": {},
   "outputs": [],
   "source": [
    "#fft_TEM1_shift = np.zeros([image1.shape[0],image1.shape[1]])\n",
    "for i in range(0, image1.shape[0]):\n",
    "    for j in range(0, image1.shape[1]):\n",
    "        if i+peak_x-center_x> 0 and i+peak_x-center_x<image1.shape[0]: \n",
    "            if j+peak_y-center_y>0 and j+peak_y-center_y<image1.shape[1]:\n",
    "                fft_TEM1_shift[i,j] = image2[i+peak_x-center_x,j+peak_y-center_y]\n",
    "            else:\n",
    "                fft_TEM1_shift[i,j] = 0.0\n",
    "        else:\n",
    "            fft_TEM1_shift[i,j] = 0.0"
   ]
  },
  {
   "cell_type": "code",
   "execution_count": 23,
   "id": "b119db5b",
   "metadata": {},
   "outputs": [
    {
     "data": {
      "text/plain": [
       "<matplotlib.image.AxesImage at 0x7f8422982250>"
      ]
     },
     "execution_count": 23,
     "metadata": {},
     "output_type": "execute_result"
    }
   ],
   "source": [
    "fig, ax = plt.subplots(nrows = 1, ncols= 1)\n",
    "image2 = abs(fft_TEM1_shift)\n",
    "ax.set_title('holograph')\n",
    "ax.imshow(image2, cmap='gray', \\\n",
    "                 vmin=vmin_mul*np.mean(image1), vmax=vmax_mul*np.mean(image1))"
   ]
  },
  {
   "cell_type": "code",
   "execution_count": 14,
   "id": "fcf7e379",
   "metadata": {},
   "outputs": [
    {
     "data": {
      "text/plain": [
       "<matplotlib.image.AxesImage at 0x7f84226a8580>"
      ]
     },
     "execution_count": 14,
     "metadata": {},
     "output_type": "execute_result"
    }
   ],
   "source": [
    "#np.fft.ifft2(np.fft.ifftshift(fft_part))\n",
    "image4 = np.imag(np.fft.ifft2(fft_TEM1_shift))\n",
    "fig, ax = plt.subplots(nrows = 1, ncols= 1)\n",
    "#image2 = abs(fft_part)\n",
    "ax.set_title('holograph')\n",
    "ax.imshow(np.real(image4), cmap='gray', \\\n",
    "                 vmin=-vmin_mul*np.mean(image4), vmax=-vmax_mul*np.mean(image4))"
   ]
  },
  {
   "cell_type": "markdown",
   "id": "6866caf0",
   "metadata": {},
   "source": [
    "Phase Unwrapping"
   ]
  },
  {
   "cell_type": "code",
   "execution_count": 15,
   "id": "3443ed06",
   "metadata": {},
   "outputs": [],
   "source": [
    "image4 = np.fft.ifft2(fft_TEM1_shift)\n",
    "real_TEM = np.zeros([fft_TEM1.shape[0], fft_TEM1.shape[1]])\n",
    "imag_TEM = np.zeros([fft_TEM1.shape[0], fft_TEM1.shape[1]])\n",
    "\n",
    "for i in range(0,image1.shape[0]):\n",
    "    for j in range(0, image1.shape[1]):\n",
    "        k_real = np.floor(np.real(image4[i,j])/(2*pi))\n",
    "        k_imag = np.floor(np.imag(image4[i,j])/(2*pi))\n",
    "        \n",
    "        real_TEM[i,j] = np.real(image4[i,j]) - k_real*pi\n",
    "        imag_TEM[i,j] = np.imag(image4[i,j]) - k_imag*pi\n",
    "        \n",
    "        "
   ]
  },
  {
   "cell_type": "code",
   "execution_count": 16,
   "id": "da467243",
   "metadata": {},
   "outputs": [
    {
     "data": {
      "text/plain": [
       "<matplotlib.image.AxesImage at 0x7f8412409460>"
      ]
     },
     "execution_count": 16,
     "metadata": {},
     "output_type": "execute_result"
    }
   ],
   "source": [
    "fig, ax = plt.subplots(nrows = 1, ncols= 2)\n",
    "#image = abs(fft_part)\n",
    "ax[0].set_title('real')\n",
    "ax[0].imshow(real_TEM, cmap='gray')#, \\\n",
    "                # vmin=-vmin_mul*np.mean(real_TEM), vmax=-vmax_mul*np.mean(real_TEM))\n",
    "\n",
    "ax[1].set_title('phase')\n",
    "ax[1].imshow(imag_TEM, cmap='gray')#, \\\n",
    "                 #vmin=-vmin_mul*np.mean(imag_TEM), vmax=-vmax_mul*np.mean(imag_TEM))"
   ]
  },
  {
   "cell_type": "code",
   "execution_count": 17,
   "id": "89b82d90",
   "metadata": {},
   "outputs": [],
   "source": [
    "N = 1000\n",
    "n = np.arange(N)\n",
    "w = 0.5 * (1 - np.cos(2 * np.pi * n / (N-1)))\n",
    "\n",
    "plt.plot(n, w)\n",
    "plt.title(\"1D Hanning Window\")\n",
    "plt.xlabel(\"Sample\")\n",
    "plt.ylabel(\"Amplitude\")\n",
    "plt.show()\n"
   ]
  },
  {
   "cell_type": "code",
   "execution_count": null,
   "id": "709278bb",
   "metadata": {},
   "outputs": [],
   "source": []
  }
 ],
 "metadata": {
  "kernelspec": {
   "display_name": "Python 3 (ipykernel)",
   "language": "python",
   "name": "python3"
  },
  "language_info": {
   "codemirror_mode": {
    "name": "ipython",
    "version": 3
   },
   "file_extension": ".py",
   "mimetype": "text/x-python",
   "name": "python",
   "nbconvert_exporter": "python",
   "pygments_lexer": "ipython3",
   "version": "3.9.7"
  }
 },
 "nbformat": 4,
 "nbformat_minor": 5
}
