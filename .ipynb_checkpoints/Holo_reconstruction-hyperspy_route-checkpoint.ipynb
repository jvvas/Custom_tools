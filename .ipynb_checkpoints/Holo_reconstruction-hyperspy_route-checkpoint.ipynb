{
 "cells": [
  {
   "cell_type": "markdown",
   "id": "151f7077",
   "metadata": {},
   "source": [
    "# <center> Code for phase construction and image alignment </center> \n",
    "### <center> By Dr. Joseph Vas </center>\n",
    "\n",
    "The code is meant for aligning phase holography images and realigning with other for successive acquisition. The idea is to use hyperspy to calculate the amplitude and electron phase shift while passing through the sample. I'm using hyperspy for this. and using skimage for the re-alignment"
   ]
  },
  {
   "cell_type": "code",
   "execution_count": 1,
   "id": "482cd070",
   "metadata": {},
   "outputs": [],
   "source": [
    "import numpy as np\n",
    "import matplotlib.pyplot as plt\n",
    "from numpy import unravel_index\n",
    "\n",
    "from skimage import data\n",
    "from skimage.registration import phase_cross_correlation\n",
    "from skimage.registration._phase_cross_correlation import _upsampled_dft\n",
    "from scipy.ndimage import fourier_shift\n",
    "\n",
    "import warnings\n",
    "import itertools"
   ]
  },
  {
   "cell_type": "code",
   "execution_count": 2,
   "id": "a0d6fd45",
   "metadata": {},
   "outputs": [
    {
     "name": "stdout",
     "output_type": "stream",
     "text": [
      "Populating the interactive namespace from numpy and matplotlib\n"
     ]
    }
   ],
   "source": [
    "%pylab qt"
   ]
  },
  {
   "cell_type": "code",
   "execution_count": 3,
   "id": "e7df6e66",
   "metadata": {},
   "outputs": [],
   "source": [
    "import hyperspy.api as hs"
   ]
  },
  {
   "cell_type": "code",
   "execution_count": 4,
   "id": "40db434a",
   "metadata": {},
   "outputs": [],
   "source": [
    "path = \"/Users/josephvas/Dropbox/check_figures/\"\n",
    "\n",
    "file_1 = \"holo_state_00OL_value 25.npy\"\n",
    "file_2 = \"holo_state_01OL_value 25.npy\"\n",
    "file_3 = \"holo_state_02OL_value 25.npy\"\n",
    "file_4 = \"holo_state_04OL_value 25.npy\"\n",
    "\n",
    "TEM1 = hs.signals.Signal2D(np.load(path+file_1))\n",
    "TEM2 = hs.signals.Signal2D(np.load(path+file_2))\n",
    "TEM3 = hs.signals.Signal2D(np.load(path+file_3))\n",
    "TEM4 = hs.signals.Signal2D(np.load(path+file_4))"
   ]
  },
  {
   "cell_type": "code",
   "execution_count": 5,
   "id": "a7baa8a1",
   "metadata": {},
   "outputs": [],
   "source": [
    "def holograph_reconstruction(TEM1):\n",
    "    \n",
    "    TEM1.set_signal_type('hologram')\n",
    "    sideband_pos = TEM1.estimate_sideband_position(ap_cb_radius=None, sb='lower')\n",
    "    sideband_size = TEM1.estimate_sideband_size(sideband_pos)\n",
    "    wave_image = TEM1.reconstruct_phase(sb_size = sideband_size, sb_position =sideband_pos)\n",
    "    wave_imge2 = wave_image.unwrapped_phase()\n",
    "\n",
    "    return(np.abs(wave_image),wave_imge2)"
   ]
  },
  {
   "cell_type": "code",
   "execution_count": null,
   "id": "9ccef5a1",
   "metadata": {},
   "outputs": [
    {
     "name": "stderr",
     "output_type": "stream",
     "text": [
      "WARNING:hyperspy.io:`signal_type='signal1d'` not understood. See `hs.print_known_signal_types()` for a list of installed signal types or https://github.com/hyperspy/hyperspy-extensions-list for the list of all hyperspy extensions providing signals.\n",
      "WARNING:hyperspy.io:`signal_type='signal1d'` not understood. See `hs.print_known_signal_types()` for a list of installed signal types or https://github.com/hyperspy/hyperspy-extensions-list for the list of all hyperspy extensions providing signals.\n",
      "WARNING:hyperspy.io:`signal_type='signal1d'` not understood. See `hs.print_known_signal_types()` for a list of installed signal types or https://github.com/hyperspy/hyperspy-extensions-list for the list of all hyperspy extensions providing signals.\n",
      "WARNING:hyperspy.io:`signal_type='signal1d'` not understood. See `hs.print_known_signal_types()` for a list of installed signal types or https://github.com/hyperspy/hyperspy-extensions-list for the list of all hyperspy extensions providing signals.\n",
      "WARNING:hyperspy.io:`signal_type='signal1d'` not understood. See `hs.print_known_signal_types()` for a list of installed signal types or https://github.com/hyperspy/hyperspy-extensions-list for the list of all hyperspy extensions providing signals.\n",
      "WARNING:hyperspy.io:`signal_type='signal1d'` not understood. See `hs.print_known_signal_types()` for a list of installed signal types or https://github.com/hyperspy/hyperspy-extensions-list for the list of all hyperspy extensions providing signals.\n",
      "WARNING:hyperspy.io:`signal_type='complex_signal2d'` not understood. See `hs.print_known_signal_types()` for a list of installed signal types or https://github.com/hyperspy/hyperspy-extensions-list for the list of all hyperspy extensions providing signals.\n",
      "WARNING:hyperspy.io:`signal_type='complex_signal2d'` not understood. See `hs.print_known_signal_types()` for a list of installed signal types or https://github.com/hyperspy/hyperspy-extensions-list for the list of all hyperspy extensions providing signals.\n",
      "WARNING:hyperspy.io:`signal_type='complex_signal2d'` not understood. See `hs.print_known_signal_types()` for a list of installed signal types or https://github.com/hyperspy/hyperspy-extensions-list for the list of all hyperspy extensions providing signals.\n",
      "WARNING:hyperspy.io:`signal_type='complex_signal2d'` not understood. See `hs.print_known_signal_types()` for a list of installed signal types or https://github.com/hyperspy/hyperspy-extensions-list for the list of all hyperspy extensions providing signals.\n",
      "WARNING:hyperspy.io:`signal_type='signal1d'` not understood. See `hs.print_known_signal_types()` for a list of installed signal types or https://github.com/hyperspy/hyperspy-extensions-list for the list of all hyperspy extensions providing signals.\n",
      "WARNING:hyperspy.io:`signal_type='signal1d'` not understood. See `hs.print_known_signal_types()` for a list of installed signal types or https://github.com/hyperspy/hyperspy-extensions-list for the list of all hyperspy extensions providing signals.\n",
      "WARNING:hyperspy.io:`signal_type='signal1d'` not understood. See `hs.print_known_signal_types()` for a list of installed signal types or https://github.com/hyperspy/hyperspy-extensions-list for the list of all hyperspy extensions providing signals.\n",
      "WARNING:hyperspy.io:`signal_type='signal1d'` not understood. See `hs.print_known_signal_types()` for a list of installed signal types or https://github.com/hyperspy/hyperspy-extensions-list for the list of all hyperspy extensions providing signals.\n",
      "WARNING:hyperspy.io:`signal_type='signal1d'` not understood. See `hs.print_known_signal_types()` for a list of installed signal types or https://github.com/hyperspy/hyperspy-extensions-list for the list of all hyperspy extensions providing signals.\n",
      "WARNING:hyperspy.io:`signal_type='signal1d'` not understood. See `hs.print_known_signal_types()` for a list of installed signal types or https://github.com/hyperspy/hyperspy-extensions-list for the list of all hyperspy extensions providing signals.\n",
      "WARNING:hyperspy.io:`signal_type='complex_signal2d'` not understood. See `hs.print_known_signal_types()` for a list of installed signal types or https://github.com/hyperspy/hyperspy-extensions-list for the list of all hyperspy extensions providing signals.\n",
      "WARNING:hyperspy.io:`signal_type='complex_signal2d'` not understood. See `hs.print_known_signal_types()` for a list of installed signal types or https://github.com/hyperspy/hyperspy-extensions-list for the list of all hyperspy extensions providing signals.\n",
      "WARNING:hyperspy.io:`signal_type='complex_signal2d'` not understood. See `hs.print_known_signal_types()` for a list of installed signal types or https://github.com/hyperspy/hyperspy-extensions-list for the list of all hyperspy extensions providing signals.\n",
      "WARNING:hyperspy.io:`signal_type='complex_signal2d'` not understood. See `hs.print_known_signal_types()` for a list of installed signal types or https://github.com/hyperspy/hyperspy-extensions-list for the list of all hyperspy extensions providing signals.\n",
      "WARNING:hyperspy.io:`signal_type='signal1d'` not understood. See `hs.print_known_signal_types()` for a list of installed signal types or https://github.com/hyperspy/hyperspy-extensions-list for the list of all hyperspy extensions providing signals.\n",
      "WARNING:hyperspy.io:`signal_type='signal1d'` not understood. See `hs.print_known_signal_types()` for a list of installed signal types or https://github.com/hyperspy/hyperspy-extensions-list for the list of all hyperspy extensions providing signals.\n",
      "WARNING:hyperspy.io:`signal_type='signal1d'` not understood. See `hs.print_known_signal_types()` for a list of installed signal types or https://github.com/hyperspy/hyperspy-extensions-list for the list of all hyperspy extensions providing signals.\n",
      "WARNING:hyperspy.io:`signal_type='signal1d'` not understood. See `hs.print_known_signal_types()` for a list of installed signal types or https://github.com/hyperspy/hyperspy-extensions-list for the list of all hyperspy extensions providing signals.\n",
      "WARNING:hyperspy.io:`signal_type='signal1d'` not understood. See `hs.print_known_signal_types()` for a list of installed signal types or https://github.com/hyperspy/hyperspy-extensions-list for the list of all hyperspy extensions providing signals.\n",
      "WARNING:hyperspy.io:`signal_type='signal1d'` not understood. See `hs.print_known_signal_types()` for a list of installed signal types or https://github.com/hyperspy/hyperspy-extensions-list for the list of all hyperspy extensions providing signals.\n",
      "WARNING:hyperspy.io:`signal_type='complex_signal2d'` not understood. See `hs.print_known_signal_types()` for a list of installed signal types or https://github.com/hyperspy/hyperspy-extensions-list for the list of all hyperspy extensions providing signals.\n",
      "WARNING:hyperspy.io:`signal_type='complex_signal2d'` not understood. See `hs.print_known_signal_types()` for a list of installed signal types or https://github.com/hyperspy/hyperspy-extensions-list for the list of all hyperspy extensions providing signals.\n",
      "WARNING:hyperspy.io:`signal_type='complex_signal2d'` not understood. See `hs.print_known_signal_types()` for a list of installed signal types or https://github.com/hyperspy/hyperspy-extensions-list for the list of all hyperspy extensions providing signals.\n",
      "WARNING:hyperspy.io:`signal_type='complex_signal2d'` not understood. See `hs.print_known_signal_types()` for a list of installed signal types or https://github.com/hyperspy/hyperspy-extensions-list for the list of all hyperspy extensions providing signals.\n",
      "WARNING:hyperspy.io:`signal_type='signal1d'` not understood. See `hs.print_known_signal_types()` for a list of installed signal types or https://github.com/hyperspy/hyperspy-extensions-list for the list of all hyperspy extensions providing signals.\n",
      "WARNING:hyperspy.io:`signal_type='signal1d'` not understood. See `hs.print_known_signal_types()` for a list of installed signal types or https://github.com/hyperspy/hyperspy-extensions-list for the list of all hyperspy extensions providing signals.\n",
      "WARNING:hyperspy.io:`signal_type='signal1d'` not understood. See `hs.print_known_signal_types()` for a list of installed signal types or https://github.com/hyperspy/hyperspy-extensions-list for the list of all hyperspy extensions providing signals.\n"
     ]
    },
    {
     "name": "stderr",
     "output_type": "stream",
     "text": [
      "WARNING:hyperspy.io:`signal_type='signal1d'` not understood. See `hs.print_known_signal_types()` for a list of installed signal types or https://github.com/hyperspy/hyperspy-extensions-list for the list of all hyperspy extensions providing signals.\n",
      "WARNING:hyperspy.io:`signal_type='signal1d'` not understood. See `hs.print_known_signal_types()` for a list of installed signal types or https://github.com/hyperspy/hyperspy-extensions-list for the list of all hyperspy extensions providing signals.\n",
      "WARNING:hyperspy.io:`signal_type='signal1d'` not understood. See `hs.print_known_signal_types()` for a list of installed signal types or https://github.com/hyperspy/hyperspy-extensions-list for the list of all hyperspy extensions providing signals.\n",
      "WARNING:hyperspy.io:`signal_type='complex_signal2d'` not understood. See `hs.print_known_signal_types()` for a list of installed signal types or https://github.com/hyperspy/hyperspy-extensions-list for the list of all hyperspy extensions providing signals.\n",
      "WARNING:hyperspy.io:`signal_type='complex_signal2d'` not understood. See `hs.print_known_signal_types()` for a list of installed signal types or https://github.com/hyperspy/hyperspy-extensions-list for the list of all hyperspy extensions providing signals.\n",
      "WARNING:hyperspy.io:`signal_type='complex_signal2d'` not understood. See `hs.print_known_signal_types()` for a list of installed signal types or https://github.com/hyperspy/hyperspy-extensions-list for the list of all hyperspy extensions providing signals.\n",
      "WARNING:hyperspy.io:`signal_type='complex_signal2d'` not understood. See `hs.print_known_signal_types()` for a list of installed signal types or https://github.com/hyperspy/hyperspy-extensions-list for the list of all hyperspy extensions providing signals.\n"
     ]
    }
   ],
   "source": [
    "%%time\n",
    "\n",
    "(absolute1, phase1) = holograph_reconstruction(TEM1)\n",
    "(absolute2, phase2) = holograph_reconstruction(TEM2)\n",
    "(absolute3, phase3) = holograph_reconstruction(TEM3)\n",
    "(absolute4, phase4) = holograph_reconstruction(TEM4)\n",
    "\n",
    "# subpixel precision\n",
    "shift1, error, diffphase = phase_cross_correlation(absolute1.data, absolute2.data, upsample_factor=100)\n",
    "shift2, error, diffphase = phase_cross_correlation(absolute1.data, absolute3.data, upsample_factor=100)\n",
    "shift3, error, diffphase = phase_cross_correlation(absolute1.data, absolute4.data, upsample_factor=100)\n",
    "\n",
    "(x_shift1, y_shift1) = int(shift1[0]), int(shift1[1])\n",
    "(x_shift2, y_shift2) = int(shift2[0]), int(shift2[1])\n",
    "(x_shift3, y_shift3) = int(shift3[0]), int(shift3[1])\n",
    "\n",
    "translated_image1 = np.zeros(absolute2.data.shape)\n",
    "translated_image2 = np.zeros(absolute2.data.shape)\n",
    "translated_image3 = np.zeros(absolute2.data.shape)\n",
    "\n",
    "translated_phase1 = np.zeros(absolute2.data.shape)\n",
    "translated_phase2 = np.zeros(absolute2.data.shape)\n",
    "translated_phase3 = np.zeros(absolute2.data.shape)\n",
    "\n",
    "\n",
    "for i,j in itertools.product(range(absolute2.data.shape[0]), range(absolute2.data.shape[1])):\n",
    "    if i-x_shift1>0 and j-y_shift1>0 and i-x_shift1<absolute2.data.shape[0]  and j-y_shift1<absolute2.data.shape[1]:\n",
    "        translated_image1[i,j] = absolute2.data[i-x_shift1,j-y_shift1] \n",
    "        translated_phase1[i,j] = phase2.data[i-x_shift1,j-y_shift1]\n",
    "        \n",
    "    if i-x_shift2>0 and j-y_shift2>0 and i-x_shift2<absolute2.data.shape[0]  and j-y_shift2<absolute2.data.shape[1]:\n",
    "        translated_image2[i,j] = absolute3.data[i-x_shift2,j-y_shift2]\n",
    "        translated_phase2[i,j] = phase3.data[i-x_shift2,j-y_shift2]\n",
    "        \n",
    "    if i-x_shift3>0 and j-y_shift3>0 and i-x_shift3<absolute2.data.shape[0]  and j-y_shift3<absolute2.data.shape[1]:\n",
    "        translated_image3[i,j] = absolute4.data[i-x_shift3,j-y_shift3]\n",
    "        translated_phase3[i,j] = phase3.data[i-x_shift3,j-y_shift3]\n",
    "        \n",
    "    "
   ]
  },
  {
   "cell_type": "code",
   "execution_count": 13,
   "id": "d4d9b1df",
   "metadata": {},
   "outputs": [
    {
     "data": {
      "text/plain": [
       "<matplotlib.image.AxesImage at 0x7fb3e0820bb0>"
      ]
     },
     "execution_count": 13,
     "metadata": {},
     "output_type": "execute_result"
    }
   ],
   "source": [
    "vmin_mul = -10\n",
    "vmax_mul = 10\n",
    "\n",
    "fig, ax = plt.subplots(nrows =2, ncols= 4)\n",
    "image1 =absolute1.data\n",
    "ax[0,0].set_title('holograph')\n",
    "ax[0,0].imshow(image1, cmap='gray', \\\n",
    "                 vmin=vmin_mul*abs(np.mean(image1)), vmax=vmax_mul*abs(np.mean(image1)))\n",
    "\n",
    "image2 =translated_image1\n",
    "ax[0,1].set_title('holograph')\n",
    "ax[0,1].imshow(image2, cmap='gray', \\\n",
    "                 vmin=vmin_mul*abs(np.mean(image2)), vmax=vmax_mul*abs(np.mean(image2)))\n",
    "\n",
    "image3 = translated_image2\n",
    "\n",
    "ax[0,2].set_title('holograph')\n",
    "ax[0,2].imshow(image3, cmap='gray', \\\n",
    "                 vmin=vmin_mul*abs(np.mean(image3)), vmax=vmax_mul*abs(np.mean(image3)))\n",
    "\n",
    "image4 = translated_image3\n",
    "\n",
    "ax[0,3].set_title('holograph')\n",
    "ax[0,3].imshow(image4, cmap='gray', \\\n",
    "                 vmin=vmin_mul*abs(np.mean(image4)), vmax=vmax_mul*abs(np.mean(image4)))\n",
    "\n",
    "image1 =absolute1.data\n",
    "ax[1,0].set_title('holograph')\n",
    "ax[1,0].imshow(image1, cmap='gray', \\\n",
    "                 vmin=vmin_mul*abs(np.mean(image1)), vmax=vmax_mul*abs(np.mean(image1)))\n",
    "\n",
    "image5 =absolute1.data +translated_image1\n",
    "ax[1,1].set_title('holograph')\n",
    "ax[1,1].imshow(image5, cmap='gray', \\\n",
    "                 vmin=vmin_mul*abs(np.mean(image5)), vmax=vmax_mul*abs(np.mean(image5)))\n",
    "               \n",
    "image6 =absolute1.data + translated_image1 + translated_image2\n",
    "ax[1,2].set_title('holograph')\n",
    "ax[1,2].imshow(image6, cmap='gray', \\\n",
    "                 vmin=vmin_mul*abs(np.mean(image6)), vmax=vmax_mul*abs(np.mean(image6)))\n",
    "               \n",
    "\n",
    "image7 =absolute1.data + translated_image1 + translated_image2 +translated_image3\n",
    "ax[1,3].set_title('holograph')\n",
    "ax[1,3].imshow(image7, cmap='gray', \\\n",
    "                 vmin=vmin_mul*abs(np.mean(image7)), vmax=vmax_mul*abs(np.mean(image7)))\n",
    "\n"
   ]
  },
  {
   "cell_type": "code",
   "execution_count": null,
   "id": "6ebe4649",
   "metadata": {},
   "outputs": [],
   "source": [
    "translated_image = np.zeros(absolute2.data.shape)"
   ]
  },
  {
   "cell_type": "code",
   "execution_count": null,
   "id": "52d35f35",
   "metadata": {},
   "outputs": [],
   "source": [
    "translated_image = translated_image1 +translated_image2 +translated_image3   "
   ]
  },
  {
   "cell_type": "code",
   "execution_count": null,
   "id": "00b85930",
   "metadata": {},
   "outputs": [],
   "source": [
    "x_shift3"
   ]
  },
  {
   "cell_type": "code",
   "execution_count": null,
   "id": "78d08bda",
   "metadata": {},
   "outputs": [],
   "source": []
  }
 ],
 "metadata": {
  "kernelspec": {
   "display_name": "Python 3 (ipykernel)",
   "language": "python",
   "name": "python3"
  },
  "language_info": {
   "codemirror_mode": {
    "name": "ipython",
    "version": 3
   },
   "file_extension": ".py",
   "mimetype": "text/x-python",
   "name": "python",
   "nbconvert_exporter": "python",
   "pygments_lexer": "ipython3",
   "version": "3.9.7"
  }
 },
 "nbformat": 4,
 "nbformat_minor": 5
}
