{
 "cells": [
  {
   "cell_type": "markdown",
   "id": "3970c338",
   "metadata": {},
   "source": [
    "# <center> Code for phase construction, image alignment and compiling phase images into a video </center> \n",
    "### <center> By Dr. Joseph Vas </center>\n",
    "\n",
    "The code is meant for aligning phase holography images and realigning with other for successive acquisition. The idea is to use hyperspy to calculate the amplitude and electron phase shift while passing through the sample. I'm using hyperspy for this. and using skimage for the re-alignment."
   ]
  },
  {
   "cell_type": "markdown",
   "id": "0505673b",
   "metadata": {},
   "source": [
    "## modified for stack images"
   ]
  },
  {
   "cell_type": "code",
   "execution_count": 1,
   "id": "d1afc010",
   "metadata": {},
   "outputs": [],
   "source": [
    "import numpy as np\n",
    "import matplotlib.pyplot as plt\n",
    "from numpy import unravel_index\n",
    "\n",
    "from skimage import data\n",
    "from skimage.registration import phase_cross_correlation\n",
    "from skimage.registration._phase_cross_correlation import _upsampled_dft\n",
    "from scipy.ndimage import fourier_shift\n",
    "import itertools\n",
    "from skimage import io, filters, img_as_float\n",
    "import warnings\n",
    "\n",
    "import os"
   ]
  },
  {
   "cell_type": "code",
   "execution_count": 2,
   "id": "4c152fce",
   "metadata": {},
   "outputs": [
    {
     "name": "stdout",
     "output_type": "stream",
     "text": [
      "Populating the interactive namespace from numpy and matplotlib\n"
     ]
    }
   ],
   "source": [
    "%pylab qt"
   ]
  },
  {
   "cell_type": "code",
   "execution_count": 3,
   "id": "e7df6e66",
   "metadata": {},
   "outputs": [],
   "source": [
    "import hyperspy.api as hs"
   ]
  },
  {
   "cell_type": "code",
   "execution_count": 4,
   "id": "8f3d63e6",
   "metadata": {},
   "outputs": [],
   "source": [
    "root_dir = '/Users/josephvas/Dropbox/check_figures/'"
   ]
  },
  {
   "cell_type": "code",
   "execution_count": 5,
   "id": "e59d57f1",
   "metadata": {},
   "outputs": [],
   "source": [
    "# Define a function to find all files with a specific extension\n",
    "def find_files(root_dir, extension):\n",
    "    for dirpath, dirnames, filenames in os.walk(root_dir):\n",
    "        for filename in filenames:\n",
    "            if filename.endswith(extension):\n",
    "                yield os.path.join(dirpath, filename)"
   ]
  },
  {
   "cell_type": "code",
   "execution_count": null,
   "id": "5b7f2f48",
   "metadata": {},
   "outputs": [],
   "source": [
    "def holograph_reconstruction(TEM1):\n",
    "    \n",
    "    TEM1.set_signal_type('hologram')\n",
    "    #if sideband_pos == 'none' and sideband_size == 'none':\n",
    "    sideband_pos = TEM1.estimate_sideband_position(ap_cb_radius=None, sb='lower')\n",
    "    sideband_size = TEM1.estimate_sideband_size(sideband_pos)\n",
    "    wave_image = TEM1.reconstruct_phase(sb_size = sideband_size, sb_position =sideband_pos)\n",
    "    wave_imge2 = wave_image.unwrapped_phase()\n",
    "\n",
    "    return(np.abs(wave_image),wave_imge2)"
   ]
  },
  {
   "cell_type": "code",
   "execution_count": 23,
   "id": "c140d00c",
   "metadata": {},
   "outputs": [
    {
     "name": "stdout",
     "output_type": "stream",
     "text": [
      "/Users/josephvas/Dropbox/check_figures/holo_state_01OL_value 25.npy\n",
      "/Users/josephvas/Dropbox/check_figures/holo_state_00OL_value 25.npy\n",
      "/Users/josephvas/Dropbox/check_figures/holo_state_02OL_value 25.npy\n",
      "/Users/josephvas/Dropbox/check_figures/holo_state_04OL_value 25.npy\n",
      "/Users/josephvas/Dropbox/check_figures/test2/holo_state_01OL_value 25.npy\n",
      "/Users/josephvas/Dropbox/check_figures/test2/holo_state_00OL_value 25.npy\n",
      "/Users/josephvas/Dropbox/check_figures/test2/holo_state_02OL_value 25.npy\n",
      "/Users/josephvas/Dropbox/check_figures/test2/holo_state_04OL_value 25.npy\n",
      "/Users/josephvas/Dropbox/check_figures/test2/check3/holo_state_01OL_value 25.npy\n",
      "/Users/josephvas/Dropbox/check_figures/test2/check3/holo_state_00OL_value 25.npy\n",
      "/Users/josephvas/Dropbox/check_figures/test2/check3/holo_state_02OL_value 25.npy\n",
      "/Users/josephvas/Dropbox/check_figures/test2/check3/holo_state_04OL_value 25.npy\n"
     ]
    }
   ],
   "source": [
    "# Call the function to find all .npy files\n",
    "npy_files = find_files(root_dir, '.npy')\n",
    "\n",
    "# Print out the file paths\n",
    "for file_path in npy_files:\n",
    "    TEM = hs.signals.Signal2D(np.load(file_path))\n",
    "    \n",
    "    print(file_path)\n"
   ]
  },
  {
   "cell_type": "code",
   "execution_count": 20,
   "id": "2a6103d3",
   "metadata": {},
   "outputs": [
    {
     "data": {
      "text/plain": [
       "<function generator.throw>"
      ]
     },
     "execution_count": 20,
     "metadata": {},
     "output_type": "execute_result"
    }
   ],
   "source": [
    "npy_files.throw"
   ]
  },
  {
   "cell_type": "code",
   "execution_count": null,
   "id": "d4a45d38",
   "metadata": {},
   "outputs": [],
   "source": [
    "%%time\n",
    "\n",
    "(absolute1, phase1) = holograph_reconstruction(TEM1)\n",
    "(absolute2, phase2) = holograph_reconstruction(TEM2)\n",
    "(absolute3, phase3) = holograph_reconstruction(TEM3)\n",
    "\n",
    "phase1 = phase1/TEM1.data.shape[0]\n",
    "phase2 = phase2/TEM2.data.shape[0]\n",
    "phase3 = phase3/TEM3.data.shape[0]\n",
    "\n"
   ]
  },
  {
   "cell_type": "code",
   "execution_count": null,
   "id": "bf65dbbe",
   "metadata": {},
   "outputs": [],
   "source": [
    "def realign_images (absolute1, phase1):\n",
    "    \n",
    "    #calculating the shift in the image using cross correlation\n",
    "    \n",
    "    shift = np.zeros([absolute1.data.shape[0]-1,2])\n",
    "\n",
    "    #translation of images\n",
    "    \n",
    "    translated_image1 = np.zeros([absolute1.data.shape[1],absolute1.data.shape[2]])\n",
    "    translated_image = np.zeros([absolute1.data.shape[1],absolute1.data.shape[2]])\n",
    "    translated_phase1 = np.zeros([absolute1.data.shape[1],absolute1.data.shape[2]])\n",
    "    translated_phase = np.zeros([absolute1.data.shape[1],absolute1.data.shape[2]])\n",
    "\n",
    "    translated_image = absolute1.data[0,:,:]\n",
    "    translated_phase = phase1.data[0,:,:]\n",
    "    \n",
    "    for k in range(0,absolute1.data.shape[0]-1):\n",
    "        shift[k], error, diffphase = phase_cross_correlation(absolute1.data[0,:,:], absolute1.data[k+1,:,:], upsample_factor=100)\n",
    "        for i,j in itertools.product(range(absolute1.data.shape[1]), range(absolute1.data.shape[2])):\n",
    "            if i-int(shift[k,0])>0 and j-int(shift[k,1])>0 and i-int(shift[k,0])<absolute1.data.shape[1]  and j-int(shift[k,1])<absolute1.data.shape[2]:\n",
    "                translated_image1[i,j] = absolute1.data[k,i-int(shift[k,0]),j-int(shift[k,1])] \n",
    "                translated_phase1[i,j] = phase2.data[k,i-int(shift[k,0]),j-int(shift[k,1])]\n",
    "\n",
    "        translated_image = translated_image + translated_image1\n",
    "        translated_phase = translated_phase + translated_phase1\n",
    "        \n",
    "    return(translated_image, translated_phase)\n",
    "\n"
   ]
  },
  {
   "cell_type": "code",
   "execution_count": null,
   "id": "a71cd27a",
   "metadata": {},
   "outputs": [],
   "source": [
    "(translated_image1, translated_phase1) = realign_images(absolute1, phase1)\n",
    "(translated_image2, translated_phase2) = realign_images(absolute2, phase2)\n",
    "(translated_image3, translated_phase3) = realign_images(absolute3, phase3)\n"
   ]
  },
  {
   "cell_type": "code",
   "execution_count": null,
   "id": "1ee549bc",
   "metadata": {},
   "outputs": [],
   "source": [
    "vmin_mul = -10\n",
    "vmax_mul = 10\n",
    "\n",
    "fig, ax = plt.subplots(nrows =2, ncols= 3)\n",
    "image1 =translated_image1 \n",
    "ax[0,0].set_title('holograph')\n",
    "ax[0,0].imshow(image1, cmap='gray', \\\n",
    "                 vmin=vmin_mul*abs(np.mean(image1)), vmax=vmax_mul*abs(np.mean(image1)))\n",
    "\n",
    "image2 =translated_image2\n",
    "ax[0,1].set_title('holograph')\n",
    "ax[0,1].imshow(image2, cmap='gray', \\\n",
    "                 vmin=vmin_mul*abs(np.mean(image2)), vmax=vmax_mul*abs(np.mean(image2)))\n",
    "\n",
    "image5 =translated_image3\n",
    "ax[0,2].set_title('holograph')\n",
    "ax[0,2].imshow(image5, cmap='gray', \\\n",
    "                 vmin=vmin_mul*abs(np.mean(image5)), vmax=vmax_mul*abs(np.mean(image5)))\n",
    "\n",
    "\n",
    "image3 =translated_phase1\n",
    "ax[1,0].set_title('holograph')\n",
    "ax[1,0].imshow(image3, cmap='gray', \\\n",
    "                 vmin=vmin_mul*abs(np.mean(image3)), vmax=vmax_mul*abs(np.mean(image3)))\n",
    "\n",
    "image4 =translated_phase2\n",
    "ax[1,1].set_title('holograph')\n",
    "ax[1,1].imshow(image4, cmap='gray', \\\n",
    "                 vmin=vmin_mul*abs(np.mean(image4)), vmax=vmax_mul*abs(np.mean(image4)))\n",
    "\n",
    "image6 =translated_phase2\n",
    "ax[1,2].set_title('holograph')\n",
    "ax[1,2].imshow(image6, cmap='gray', \\\n",
    "                 vmin=vmin_mul*abs(np.mean(image6)), vmax=vmax_mul*abs(np.mean(image6)))\n",
    "\n"
   ]
  },
  {
   "cell_type": "code",
   "execution_count": null,
   "id": "24d63326",
   "metadata": {},
   "outputs": [],
   "source": [
    "def gradients(image,pixel_size):\n",
    "    dim = image.shape\n",
    "    grad_X = np.zeros((dim[0],dim[1]))\n",
    "    grad_Y = np.zeros((dim[0],dim[1]))\n",
    "    for i in range (0,dim[0]-1):\n",
    "        for j in range (0,dim[1]-1):\n",
    "            grad_X[i,j] =(image[i,j+1]-image[i,j])/pixel_size\n",
    "            grad_Y[i,j] =-(image[i+1,j]-image[i,j])/pixel_size\n",
    "    \n",
    "    return(grad_X,grad_Y)"
   ]
  },
  {
   "cell_type": "code",
   "execution_count": null,
   "id": "79ddbb06",
   "metadata": {},
   "outputs": [],
   "source": [
    "phi_crop = translated_phase1\n",
    "pixel_dimensions = TEM1.original_metadata.ImageList.TagGroup0.ImageData.Calibrations.Dimension.TagGroup0.Scale*1e-9\n",
    "\n",
    "h = 6.626e-34\n",
    "electron_charge = 1.6e-19\n",
    "t = 160e-9\n",
    "\n",
    "coeff = h/(2*pi*electron_charge)\n",
    "(grad_X,grad_Y) = gradients(phi_crop,pixel_dimensions)\n",
    "\n",
    "Bx = coeff*grad_Y/t\n",
    "By = -coeff*grad_X/t"
   ]
  },
  {
   "cell_type": "code",
   "execution_count": null,
   "id": "e98d3079",
   "metadata": {},
   "outputs": [],
   "source": [
    "phi_crop = translated_phase2\n",
    "pixel_dimensions = TEM1.original_metadata.ImageList.TagGroup0.ImageData.Calibrations.Dimension.TagGroup0.Scale*1e-9\n",
    "\n",
    "h = 6.626e-34\n",
    "electron_charge = 1.6e-19\n",
    "t = 160e-9\n",
    "\n",
    "coeff = h/(2*pi*electron_charge)\n",
    "(grad_X,grad_Y) = gradients(phi_crop,pixel_dimensions)\n",
    "\n",
    "Bx_1 = coeff*grad_Y/t\n",
    "By_1 = -coeff*grad_X/t"
   ]
  },
  {
   "cell_type": "code",
   "execution_count": null,
   "id": "6b7f7148",
   "metadata": {},
   "outputs": [],
   "source": [
    "phi_crop = translated_phase3\n",
    "pixel_dimensions = TEM1.original_metadata.ImageList.TagGroup0.ImageData.Calibrations.Dimension.TagGroup0.Scale*1e-9\n",
    "\n",
    "h = 6.626e-34\n",
    "electron_charge = 1.6e-19\n",
    "t = 160e-9\n",
    "\n",
    "coeff = h/(2*pi*electron_charge)\n",
    "(grad_X,grad_Y) = gradients(phi_crop,pixel_dimensions)\n",
    "\n",
    "Bx_2 = coeff*grad_Y/t\n",
    "By_2 = -coeff*grad_X/t"
   ]
  },
  {
   "cell_type": "code",
   "execution_count": null,
   "id": "d855e573",
   "metadata": {},
   "outputs": [],
   "source": [
    "B = np.sqrt(abs(Bx**2+By**2))\n",
    "B_phase = np.arctan2(By, Bx) * 180 / np.pi\n",
    "\n",
    "B_max =np.max(B)\n",
    "color =RGB_phase(B_phase, B, B_max)\n",
    "\n"
   ]
  },
  {
   "cell_type": "code",
   "execution_count": null,
   "id": "179355db",
   "metadata": {},
   "outputs": [],
   "source": [
    "def RGB_phase(phase,mag,mag_max):\n",
    "    color = np.zeros([phase.shape[0],phase.shape[1],4])\n",
    "    phase = phase+180 # to change the range from [-180, 180] to [0, 360]\n",
    "    for i in range(0, phase.shape[0]):\n",
    "        for j in range(0,phase.shape[1]):\n",
    "            #print(phase)\n",
    "            if 0 <= phase[i,j] <= 120:\n",
    "                r = (1/120)*phase[i,j]\n",
    "                g = (-1/120)*phase[i,j]+1\n",
    "                b = 0\n",
    "            elif 120 <= phase[i,j] <= 240:\n",
    "                r = (-1/120)*(phase[i,j]-120)+1\n",
    "                g = 0\n",
    "                b = (1/120)*(phase[i,j]- 120)\n",
    "            elif 240 <= phase[i,j] <= 360:\n",
    "                r = 0\n",
    "                g = (1/120)*(phase[i,j]- 240)\n",
    "                b = (-1/120)*(phase[i,j]-240)+1\n",
    "            else:\n",
    "                r = 0\n",
    "                g = 0\n",
    "                b = 0\n",
    "            if r ==0 and g == 0 and b == 0:\n",
    "                color[i,j,:] = [r,g,b,0]\n",
    "            else:\n",
    "                color[i,j,:] = [r,g,b,3*mag[i,j]/mag_max]\n",
    "            #color[i,j,:] = [r,g,b,1]\n",
    "            #color[i,j,:] = [r,g,b,mag[i,j]]\n",
    "            #color[i,j,:] = [r,g,b,5*mag[i,j]/mag_max]\n",
    "    return(color)"
   ]
  },
  {
   "cell_type": "code",
   "execution_count": null,
   "id": "58432600",
   "metadata": {},
   "outputs": [],
   "source": [
    "fig, ax =plt.subplots(nrows=2, ncols =3)\n",
    "vmn = -1\n",
    "vmx = 1\n",
    "vmn_1 = -1e-3\n",
    "vmx_1 = 1e-3\n",
    "\n",
    "\n",
    "\n",
    "ax[0,0].imshow(Bx,cmap ='gray', vmin = vmn, vmax = vmx)\n",
    "ax[0,0].set_title('Bx')\n",
    "\n",
    "ax[1,0].imshow(By,cmap ='gray', vmin = vmn, vmax = vmx)\n",
    "ax[1,0].set_title('By')\n",
    "\n",
    "ax[0,1].imshow(Bx_1,cmap ='gray', vmin = vmn, vmax = vmx)\n",
    "ax[0,1].set_title('Bx')\n",
    "\n",
    "ax[1,1].imshow(By_1,cmap ='gray', vmin = vmn, vmax = vmx)\n",
    "ax[1,1].set_title('By')\n",
    "\n",
    "ax[0,2].imshow(Bx_2,cmap ='gray', vmin = vmn, vmax = vmx)\n",
    "ax[0,2].set_title('Bx')\n",
    "\n",
    "ax[1,2].imshow(By_2,cmap ='gray', vmin = vmn, vmax = vmx)\n",
    "ax[1,2].set_title('By')\n"
   ]
  },
  {
   "cell_type": "code",
   "execution_count": null,
   "id": "b5b4b2cf",
   "metadata": {},
   "outputs": [],
   "source": [
    "fig, ax =plt.subplots(nrows=2, ncols =3)\n",
    "vmn = -.1\n",
    "vmx = .1\n",
    "vmn_1 = -1e-3\n",
    "vmx_1 = 1e-3\n",
    "\n",
    "\n",
    "\n",
    "ax[0,0].imshow(Bx-Bx_1,cmap ='gray', vmin = vmn, vmax = vmx)\n",
    "ax[0,0].set_title('Bx-Bx_1')\n",
    "\n",
    "ax[1,0].imshow(By-By_1,cmap ='gray', vmin = vmn, vmax = vmx)\n",
    "ax[1,0].set_title('By-By_1')\n",
    "\n",
    "ax[0,1].imshow(Bx-Bx_2,cmap ='gray', vmin = vmn, vmax = vmx)\n",
    "ax[0,1].set_title('Bx-Bx_2')\n",
    "\n",
    "ax[1,1].imshow(By-By_2,cmap ='gray', vmin = vmn, vmax = vmx)\n",
    "ax[1,1].set_title('By-By_2')\n",
    "\n",
    "ax[0,2].imshow(Bx_2-Bx_1,cmap ='gray', vmin = vmn, vmax = vmx)\n",
    "ax[0,2].set_title('Bx_2-Bx_1')\n",
    "\n",
    "ax[1,2].imshow(By_2-By_1,cmap ='gray', vmin = vmn, vmax = vmx)\n",
    "ax[1,2].set_title('By_2-By_1')"
   ]
  },
  {
   "cell_type": "code",
   "execution_count": null,
   "id": "aaf7c76e",
   "metadata": {},
   "outputs": [],
   "source": [
    "#angle = -5\n",
    "#rotated_color = ndimage.rotate(color, angle)\n",
    "#rotated_infocus = ndimage.rotate(in_focus.data,angle)\n",
    "#rotated_Bx = ndimage.rotate(Bx, angle)\n",
    "#rotated_By = ndimage.rotate(By, angle)\n",
    "#rotated_diff = ndimage.rotate(under_focus_affined-in_focus_data,angle)\n",
    "\n",
    "fig, ax =plt.subplots(nrows=2, ncols =2)\n",
    "#xlim_min = 25\n",
    "#xlim_max = 500\n",
    "#ylim_min = 375\n",
    "#ylim_max = 170\n",
    "vmn = -20\n",
    "vmx = 20\n",
    "\n",
    "#ax[0,0].imshow(rotated_diff,cmap ='gray')\n",
    "#ax[0,0].set_xlim([xlim_min,xlim_max])\n",
    "#ax[0,0].set_ylim([ylim_min,ylim_max])\n",
    "#ax[0,0].set_yticks([])\n",
    "#ax[0,0].set_xticks([])\n",
    "#ax[0,0].set_yticklabels([])\n",
    "#ax[0,0].set_xticklabels([])\n",
    "#ax[0,0].set_title('Difference',size =12)\n",
    "\n",
    "ax[0,1].imshow(Bx,cmap ='gray', vmin = vmn, vmax = vmx)\n",
    "#ax[0,1].set_xlim([xlim_min,xlim_max])\n",
    "#ax[0,1].set_ylim([ylim_min,ylim_max])\n",
    "#ax[0,1].set_yticks([])\n",
    "#ax[0,1].set_xticks([])\n",
    "#ax[0,1].set_yticklabels([])\n",
    "#ax[0,1].set_xticklabels([])\n",
    "ax[0,1].set_title('Bx')\n",
    "\n",
    "ax[1,0].imshow(By,cmap ='gray', vmin = vmn, vmax = vmx)\n",
    "#ax[1,0].set_xlim([xlim_min,xlim_max])\n",
    "#ax[1,0].set_ylim([ylim_min,ylim_max])\n",
    "#ax[1,0].set_yticks([])\n",
    "#ax[1,0].set_xticks([])\n",
    "#ax[1,0].set_yticklabels([])\n",
    "#ax[1,0].set_xticklabels([])\n",
    "ax[1,0].set_title('By')\n",
    "\n",
    "ax[1,1].imshow(Bx, cmap ='gray')\n",
    "ax[1,1].imshow(color)\n",
    "#ax[1,1].set_xlim([xlim_min,xlim_max])\n",
    "#ax[1,1].set_ylim([ylim_min,ylim_max])\n",
    "#ax[1,1].set_yticks([])\n",
    "#ax[1,1].set_xticks([])\n",
    "#ax[1,1].set_yticklabels([])\n",
    "#ax[1,1].set_xticklabels([])\n",
    "ax[1,1].set_title('Magnetic field')"
   ]
  },
  {
   "cell_type": "code",
   "execution_count": null,
   "id": "3428a9fb",
   "metadata": {},
   "outputs": [],
   "source": [
    "color[0,0,:]"
   ]
  },
  {
   "cell_type": "markdown",
   "id": "ab7282a0",
   "metadata": {},
   "source": [
    "The next section is for removing linear background from phase"
   ]
  },
  {
   "cell_type": "code",
   "execution_count": null,
   "id": "43538ad3",
   "metadata": {},
   "outputs": [],
   "source": [
    "translated_phase4 = remove_linear_background(translated_phase1)\n",
    "translated_phase5 = remove_linear_background(translated_phase2)\n",
    "translated_phase6 = remove_linear_background(translated_phase3)"
   ]
  },
  {
   "cell_type": "code",
   "execution_count": null,
   "id": "7af14058",
   "metadata": {},
   "outputs": [],
   "source": [
    "def remove_linear_background (phase):\n",
    "\n",
    "    image = (phase - np.min(phase))/(np.max(phase)-np.min(phase))\n",
    "    \n",
    "    # Calculate the gradient of the image\n",
    "    gradient = filters.rank.gradient(image, np.ones((3,3)))\n",
    "    \n",
    "\n",
    "    # Calculate the mean of the gradient along the x and y axes\n",
    "    mean_gradient = [np.mean(gradient, axis=0), np.mean(gradient, axis=1)]\n",
    "\n",
    "    # Create a meshgrid of the x and y coordinates of the image\n",
    "    x, y = np.meshgrid(np.arange(image.shape[1]), np.arange(image.shape[0]))\n",
    "\n",
    "    # Create a linear background image using the mean gradient\n",
    "    background = mean_gradient[0]*x + mean_gradient[1]*y\n",
    "\n",
    "    # Subtract the linear background from the image\n",
    "    image_subtracted = image - background\n",
    "    \n",
    "    return(image_substracted)\n"
   ]
  },
  {
   "cell_type": "code",
   "execution_count": null,
   "id": "9a60d42d",
   "metadata": {},
   "outputs": [],
   "source": [
    "translated_phase4 = remove_linear_background(translated_phase1)"
   ]
  },
  {
   "cell_type": "code",
   "execution_count": null,
   "id": "f6eb0f98",
   "metadata": {},
   "outputs": [],
   "source": [
    "phase = translated_phase2"
   ]
  },
  {
   "cell_type": "code",
   "execution_count": null,
   "id": "2127de70",
   "metadata": {},
   "outputs": [],
   "source": [
    "maximum = np.max(phase)\n",
    "minimum = np.min(phase)\n",
    "image = (phase - minimum)/(maximum-minimum)\n",
    "    \n",
    "    # Calculate the gradient of the image\n",
    "grad_x, grad_y = np.gradient(image)\n",
    "    \n",
    "    # Create a meshgrid of the x and y coordinates of the image\n",
    "x, y = np.meshgrid(np.arange(image.shape[1]), np.arange(image.shape[0]))\n",
    "\n",
    "    # Create a linear background image using the mean gradient\n",
    "background = np.mean(grad_x)*x + np.mean(grad_y)*y\n",
    "\n",
    "    # Subtract the linear background from the image\n",
    "image_subtracted = image - background\n",
    "         \n",
    "phase_withoutbackground = image_subtracted*(maximum-minimum)+minimum"
   ]
  },
  {
   "cell_type": "code",
   "execution_count": null,
   "id": "3d623479",
   "metadata": {},
   "outputs": [],
   "source": [
    "np.mean(grad_x)*1851"
   ]
  },
  {
   "cell_type": "code",
   "execution_count": null,
   "id": "d408a704",
   "metadata": {},
   "outputs": [],
   "source": [
    "(image[2,1]-image[0,1])/2"
   ]
  },
  {
   "cell_type": "code",
   "execution_count": null,
   "id": "60eaa9aa",
   "metadata": {},
   "outputs": [],
   "source": [
    "x+y"
   ]
  },
  {
   "cell_type": "code",
   "execution_count": null,
   "id": "89c0475a",
   "metadata": {},
   "outputs": [],
   "source": [
    "np.max(image-background)"
   ]
  },
  {
   "cell_type": "code",
   "execution_count": null,
   "id": "7ef660f4",
   "metadata": {},
   "outputs": [],
   "source": [
    "vmin_mul = -10\n",
    "vmax_mul = 10\n",
    "\n",
    "fig, ax = plt.subplots(nrows =1, ncols= 4)\n",
    "image1 = image\n",
    "ax[0].set_title('holograph')\n",
    "ax[0].imshow(image1, cmap='gray', \\\n",
    "                 vmin=vmin_mul*abs(np.mean(image1)), vmax=vmax_mul*abs(np.mean(image1)))\n",
    "\n",
    "image2 = background\n",
    "ax[1].set_title('holograph')\n",
    "ax[1].imshow(image2, cmap='gray', \\\n",
    "                 vmin=vmin_mul*abs(np.mean(image2)), vmax=vmax_mul*abs(np.mean(image2)))\n",
    "\n",
    "image3 = image1 -image2\n",
    "ax[2].set_title('holograph')\n",
    "ax[2].imshow(image3, cmap='gray', \\\n",
    "                 vmin=vmin_mul*abs(np.mean(image3)), vmax=vmax_mul*abs(np.mean(image3)))\n",
    "\n",
    "\n",
    "image4 = phase_withoutbackground\n",
    "ax[3].set_title('holograph')\n",
    "ax[3].imshow(image4, cmap='gray', \\\n",
    "                 vmin=vmin_mul*abs(np.mean(image4)), vmax=vmax_mul*abs(np.mean(image4)))\n"
   ]
  },
  {
   "cell_type": "code",
   "execution_count": null,
   "id": "1ed0307a",
   "metadata": {},
   "outputs": [],
   "source": []
  },
  {
   "cell_type": "code",
   "execution_count": null,
   "id": "105d5667",
   "metadata": {},
   "outputs": [],
   "source": [
    "\n"
   ]
  }
 ],
 "metadata": {
  "kernelspec": {
   "display_name": "Python 3 (ipykernel)",
   "language": "python",
   "name": "python3"
  },
  "language_info": {
   "codemirror_mode": {
    "name": "ipython",
    "version": 3
   },
   "file_extension": ".py",
   "mimetype": "text/x-python",
   "name": "python",
   "nbconvert_exporter": "python",
   "pygments_lexer": "ipython3",
   "version": "3.9.7"
  }
 },
 "nbformat": 4,
 "nbformat_minor": 5
}
