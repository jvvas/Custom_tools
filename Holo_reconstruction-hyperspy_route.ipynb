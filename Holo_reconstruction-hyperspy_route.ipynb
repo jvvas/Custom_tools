{
 "cells": [
  {
   "cell_type": "code",
   "execution_count": 1,
   "id": "5e78b6c8",
   "metadata": {},
   "outputs": [],
   "source": [
    "import numpy as np\n",
    "import matplotlib.pyplot as plt\n",
    "from numpy import unravel_index\n",
    "\n",
    "from skimage import data\n",
    "from skimage.registration import phase_cross_correlation\n",
    "from skimage.registration._phase_cross_correlation import _upsampled_dft\n",
    "from scipy.ndimage import fourier_shift\n",
    "\n",
    "import warnings"
   ]
  },
  {
   "cell_type": "code",
   "execution_count": 2,
   "id": "a0d6fd45",
   "metadata": {},
   "outputs": [
    {
     "name": "stdout",
     "output_type": "stream",
     "text": [
      "Populating the interactive namespace from numpy and matplotlib\n"
     ]
    }
   ],
   "source": [
    "%pylab qt"
   ]
  },
  {
   "cell_type": "code",
   "execution_count": 3,
   "id": "e7df6e66",
   "metadata": {},
   "outputs": [],
   "source": [
    "import hyperspy.api as hs"
   ]
  },
  {
   "cell_type": "code",
   "execution_count": 16,
   "id": "6abdb859",
   "metadata": {},
   "outputs": [],
   "source": [
    "path = \"/Users/josephvas/Dropbox/check_figures/\"\n",
    "file_out = \"holo_state_00OL_value 25.npy\"\n",
    "file_in = \"holo_state_01OL_value 25.npy\"\n",
    "\n",
    "TEM2 = hs.signals.Signal2D(np.load(path+file_out))\n",
    "TEM3 = hs.signals.Signal2D(np.load(path+file_in))\n",
    "\n",
    "#TEM1 = np.load(path+file_out) #underfocus\n",
    "#TEM2 = np.load(path+file_in) #in-focus"
   ]
  },
  {
   "cell_type": "code",
   "execution_count": 17,
   "id": "c764ed40",
   "metadata": {},
   "outputs": [],
   "source": [
    "def holograph_reconstruction(TEM1):\n",
    "    TEM1.set_signal_type('hologram')\n",
    "    sideband_pos = TEM1.estimate_sideband_position(ap_cb_radius=None, sb='lower')\n",
    "    sideband_size = TEM1.estimate_sideband_size(sideband_pos)\n",
    "    wave_image = TEM1.reconstruct_phase(sb_size = sideband_size, sb_position =sideband_pos)\n",
    "    wave_imge2 = wave_image.unwrapped_phase()\n",
    "    \n",
    "    return(np.abs(wave_image),wave_imge2)"
   ]
  },
  {
   "cell_type": "code",
   "execution_count": 18,
   "id": "a4e616f2",
   "metadata": {},
   "outputs": [
    {
     "name": "stderr",
     "output_type": "stream",
     "text": [
      "WARNING:hyperspy.io:`signal_type='signal1d'` not understood. See `hs.print_known_signal_types()` for a list of installed signal types or https://github.com/hyperspy/hyperspy-extensions-list for the list of all hyperspy extensions providing signals.\n",
      "WARNING:hyperspy.io:`signal_type='signal1d'` not understood. See `hs.print_known_signal_types()` for a list of installed signal types or https://github.com/hyperspy/hyperspy-extensions-list for the list of all hyperspy extensions providing signals.\n",
      "WARNING:hyperspy.io:`signal_type='signal1d'` not understood. See `hs.print_known_signal_types()` for a list of installed signal types or https://github.com/hyperspy/hyperspy-extensions-list for the list of all hyperspy extensions providing signals.\n",
      "WARNING:hyperspy.io:`signal_type='signal1d'` not understood. See `hs.print_known_signal_types()` for a list of installed signal types or https://github.com/hyperspy/hyperspy-extensions-list for the list of all hyperspy extensions providing signals.\n",
      "WARNING:hyperspy.io:`signal_type='signal1d'` not understood. See `hs.print_known_signal_types()` for a list of installed signal types or https://github.com/hyperspy/hyperspy-extensions-list for the list of all hyperspy extensions providing signals.\n",
      "WARNING:hyperspy.io:`signal_type='signal1d'` not understood. See `hs.print_known_signal_types()` for a list of installed signal types or https://github.com/hyperspy/hyperspy-extensions-list for the list of all hyperspy extensions providing signals.\n",
      "WARNING:hyperspy.io:`signal_type='complex_signal2d'` not understood. See `hs.print_known_signal_types()` for a list of installed signal types or https://github.com/hyperspy/hyperspy-extensions-list for the list of all hyperspy extensions providing signals.\n",
      "WARNING:hyperspy.io:`signal_type='complex_signal2d'` not understood. See `hs.print_known_signal_types()` for a list of installed signal types or https://github.com/hyperspy/hyperspy-extensions-list for the list of all hyperspy extensions providing signals.\n",
      "WARNING:hyperspy.io:`signal_type='complex_signal2d'` not understood. See `hs.print_known_signal_types()` for a list of installed signal types or https://github.com/hyperspy/hyperspy-extensions-list for the list of all hyperspy extensions providing signals.\n",
      "WARNING:hyperspy.io:`signal_type='complex_signal2d'` not understood. See `hs.print_known_signal_types()` for a list of installed signal types or https://github.com/hyperspy/hyperspy-extensions-list for the list of all hyperspy extensions providing signals.\n",
      "WARNING:hyperspy.io:`signal_type='signal1d'` not understood. See `hs.print_known_signal_types()` for a list of installed signal types or https://github.com/hyperspy/hyperspy-extensions-list for the list of all hyperspy extensions providing signals.\n",
      "WARNING:hyperspy.io:`signal_type='signal1d'` not understood. See `hs.print_known_signal_types()` for a list of installed signal types or https://github.com/hyperspy/hyperspy-extensions-list for the list of all hyperspy extensions providing signals.\n",
      "WARNING:hyperspy.io:`signal_type='signal1d'` not understood. See `hs.print_known_signal_types()` for a list of installed signal types or https://github.com/hyperspy/hyperspy-extensions-list for the list of all hyperspy extensions providing signals.\n",
      "WARNING:hyperspy.io:`signal_type='signal1d'` not understood. See `hs.print_known_signal_types()` for a list of installed signal types or https://github.com/hyperspy/hyperspy-extensions-list for the list of all hyperspy extensions providing signals.\n",
      "WARNING:hyperspy.io:`signal_type='signal1d'` not understood. See `hs.print_known_signal_types()` for a list of installed signal types or https://github.com/hyperspy/hyperspy-extensions-list for the list of all hyperspy extensions providing signals.\n",
      "WARNING:hyperspy.io:`signal_type='signal1d'` not understood. See `hs.print_known_signal_types()` for a list of installed signal types or https://github.com/hyperspy/hyperspy-extensions-list for the list of all hyperspy extensions providing signals.\n",
      "WARNING:hyperspy.io:`signal_type='complex_signal2d'` not understood. See `hs.print_known_signal_types()` for a list of installed signal types or https://github.com/hyperspy/hyperspy-extensions-list for the list of all hyperspy extensions providing signals.\n",
      "WARNING:hyperspy.io:`signal_type='complex_signal2d'` not understood. See `hs.print_known_signal_types()` for a list of installed signal types or https://github.com/hyperspy/hyperspy-extensions-list for the list of all hyperspy extensions providing signals.\n",
      "WARNING:hyperspy.io:`signal_type='complex_signal2d'` not understood. See `hs.print_known_signal_types()` for a list of installed signal types or https://github.com/hyperspy/hyperspy-extensions-list for the list of all hyperspy extensions providing signals.\n",
      "WARNING:hyperspy.io:`signal_type='complex_signal2d'` not understood. See `hs.print_known_signal_types()` for a list of installed signal types or https://github.com/hyperspy/hyperspy-extensions-list for the list of all hyperspy extensions providing signals.\n"
     ]
    }
   ],
   "source": [
    "(absolute1, phase1) = holograph_reconstruction(TEM2)\n",
    "(absolute2, phase2) = holograph_reconstruction(TEM3)\n",
    "warnings.filterwarnings(action='once')"
   ]
  },
  {
   "cell_type": "code",
   "execution_count": 9,
   "id": "7f287803",
   "metadata": {},
   "outputs": [
    {
     "name": "stdout",
     "output_type": "stream",
     "text": [
      "Detected subpixel offset (y, x): [0. 0.]\n"
     ]
    }
   ],
   "source": [
    "# subpixel precision\n",
    "shift, error, diffphase = phase_cross_correlation(absolute1.data, absolute2.data,\n",
    "                                                  upsample_factor=100)\n",
    "\n",
    "fig = plt.figure(figsize=(8, 3))\n",
    "ax1 = plt.subplot(1, 3, 1)\n",
    "ax2 = plt.subplot(1, 3, 2, sharex=ax1, sharey=ax1)\n",
    "ax3 = plt.subplot(1, 3, 3)\n",
    "\n",
    "ax1.imshow(absolute1.data, cmap='gray')\n",
    "#ax1.set_axis_off()\n",
    "ax1.set_title('Reference image')\n",
    "\n",
    "ax2.imshow(absolute2.data, cmap='gray')\n",
    "#ax2.set_axis_off()\n",
    "ax2.set_title('Offset image')\n",
    "\n",
    "ax3.imshow(absolute2.data-absolute1.data, cmap='gray')\n",
    "ax3.set_title(\"Cross-correlation\")\n",
    "\n",
    "plt.show()\n",
    "\n",
    "print(f'Detected subpixel offset (y, x): {shift}')"
   ]
  },
  {
   "cell_type": "code",
   "execution_count": 10,
   "id": "7498a398",
   "metadata": {},
   "outputs": [],
   "source": [
    "offset_image = fourier_shift(np.fft.fftn(absolute2.data), -shift)\n",
    "offset_image = np.fft.ifftn(offset_image)"
   ]
  },
  {
   "cell_type": "code",
   "execution_count": 15,
   "id": "3901c2b5",
   "metadata": {},
   "outputs": [
    {
     "data": {
      "text/plain": [
       "<matplotlib.image.AxesImage at 0x7f7bc0707a30>"
      ]
     },
     "execution_count": 15,
     "metadata": {},
     "output_type": "execute_result"
    }
   ],
   "source": [
    "vmin_mul = -10\n",
    "vmax_mul = 10\n",
    "\n",
    "fig, ax = plt.subplots(nrows = 2, ncols= 2)\n",
    "image1 =absolute1.data\n",
    "\n",
    "ax[0,0].set_title('holograph')\n",
    "ax[0,0].imshow(image1, cmap='gray', \\\n",
    "                 vmin=vmin_mul*abs(np.mean(image1)), vmax=vmax_mul*abs(np.mean(image1)))\n",
    "\n",
    "image2 =phase1.data\n",
    "ax[0,1].set_title('holograph')\n",
    "ax[0,1].imshow(image2, cmap='gray', \\\n",
    "                 vmin=vmin_mul*abs(np.mean(image2)), vmax=vmax_mul*abs(np.mean(image2)))\n",
    "\n",
    "image3 =absolute2.data\n",
    "\n",
    "ax[1,0].set_title('holograph')\n",
    "ax[1,0].imshow(image1, cmap='gray', \\\n",
    "                 vmin=vmin_mul*abs(np.mean(image3)), vmax=vmax_mul*abs(np.mean(image3)))\n",
    "\n",
    "image4 =phase2.data\n",
    "ax[1,1].set_title('holograph')\n",
    "ax[1,1].imshow(image2, cmap='gray', \\\n",
    "                 vmin=vmin_mul*abs(np.mean(image4)), vmax=vmax_mul*abs(np.mean(image4)))"
   ]
  },
  {
   "cell_type": "code",
   "execution_count": 14,
   "id": "7c6157ee",
   "metadata": {},
   "outputs": [
    {
     "data": {
      "text/plain": [
       "<matplotlib.image.AxesImage at 0x7f7bbfcff6d0>"
      ]
     },
     "execution_count": 14,
     "metadata": {},
     "output_type": "execute_result"
    }
   ],
   "source": [
    "vmin_mul = -10\n",
    "vmax_mul = 10\n",
    "\n",
    "fig, ax = plt.subplots(nrows =1, ncols= 3)\n",
    "image1 =absolute1.data\n",
    "ax[0].set_title('holograph')\n",
    "ax[0].imshow(image1, cmap='gray', \\\n",
    "                 vmin=vmin_mul*abs(np.mean(image1)), vmax=vmax_mul*abs(np.mean(image1)))\n",
    "\n",
    "image2 =offset_image.real\n",
    "ax[1].set_title('holograph')\n",
    "ax[1].imshow(image2, cmap='gray', \\\n",
    "                 vmin=vmin_mul*abs(np.mean(image2)), vmax=vmax_mul*abs(np.mean(image2)))\n",
    "\n",
    "image3 =absolute1.data - offset_image.real\n",
    "\n",
    "ax[2].set_title('holograph')\n",
    "ax[2].imshow(image1, cmap='gray', \\\n",
    "                 vmin=vmin_mul*abs(np.mean(image3)), vmax=vmax_mul*abs(np.mean(image3)))\n"
   ]
  },
  {
   "cell_type": "code",
   "execution_count": null,
   "id": "d8bcbca2",
   "metadata": {},
   "outputs": [],
   "source": [
    "offset_image.real"
   ]
  },
  {
   "cell_type": "code",
   "execution_count": null,
   "id": "20ed1920",
   "metadata": {},
   "outputs": [],
   "source": [
    "image = data.camera()\n",
    "shift = (-22.4, 13.32)\n",
    "# The shift corresponds to the pixel offset relative to the reference image\n",
    "offset_image = fourier_shift(np.fft.fftn(image), shift)\n",
    "offset_image = np.fft.ifftn(offset_image)\n",
    "print(f'Known offset (y, x): {shift}')"
   ]
  },
  {
   "cell_type": "code",
   "execution_count": null,
   "id": "e3d50720",
   "metadata": {},
   "outputs": [],
   "source": [
    "image.shape"
   ]
  },
  {
   "cell_type": "code",
   "execution_count": null,
   "id": "2f6012d3",
   "metadata": {},
   "outputs": [],
   "source": [
    "offset_image"
   ]
  },
  {
   "cell_type": "code",
   "execution_count": null,
   "id": "27c574f5",
   "metadata": {},
   "outputs": [],
   "source": []
  }
 ],
 "metadata": {
  "kernelspec": {
   "display_name": "Python 3 (ipykernel)",
   "language": "python",
   "name": "python3"
  },
  "language_info": {
   "codemirror_mode": {
    "name": "ipython",
    "version": 3
   },
   "file_extension": ".py",
   "mimetype": "text/x-python",
   "name": "python",
   "nbconvert_exporter": "python",
   "pygments_lexer": "ipython3",
   "version": "3.9.7"
  }
 },
 "nbformat": 4,
 "nbformat_minor": 5
}
